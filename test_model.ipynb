{
 "cells": [
  {
   "cell_type": "code",
   "execution_count": 1,
   "metadata": {},
   "outputs": [],
   "source": [
    "import torch\n",
    "from datasets import load_from_disk\n",
    "from torch.utils.data import DataLoader\n",
    "from diffusers import AutoencoderKL\n",
    "from tqdm.notebook import tqdm\n",
    "import numpy as np\n",
    "from transformer.microdit import LitMicroDiT, MicroDiT\n",
    "import matplotlib.pyplot as plt\n",
    "from transformer.utils import strings_to_tensor"
   ]
  },
  {
   "cell_type": "code",
   "execution_count": 2,
   "metadata": {},
   "outputs": [],
   "source": [
    "device = \"cuda\" if torch.cuda.is_available() else \"cpu\""
   ]
  },
  {
   "cell_type": "code",
   "execution_count": 4,
   "metadata": {},
   "outputs": [
    {
     "data": {
      "application/vnd.jupyter.widget-view+json": {
       "model_id": "40191b4663e044cc950c56e679c8342f",
       "version_major": 2,
       "version_minor": 0
      },
      "text/plain": [
       "Loading dataset from disk:   0%|          | 0/153 [00:00<?, ?it/s]"
      ]
     },
     "metadata": {},
     "output_type": "display_data"
    }
   ],
   "source": [
    "train_ds = load_from_disk(dataset_path=\"../../datasets/CelebA-attrs-latents/train\")"
   ]
  },
  {
   "cell_type": "code",
   "execution_count": null,
   "metadata": {},
   "outputs": [],
   "source": [
    "vae = AutoencoderKL.from_pretrained(pretrained_model_name_or_path=\"madebyollin/sdxl-vae-fp16-fix\", cache_dir=\"models/vae\").to(device)"
   ]
  },
  {
   "cell_type": "code",
   "execution_count": null,
   "metadata": {},
   "outputs": [],
   "source": [
    "bs = 16\n",
    "input_dim = 4  # 4 channels in latent space\n",
    "patch_size = 1 \n",
    "embed_dim = 384\n",
    "num_layers = 12\n",
    "num_heads = 6\n",
    "mlp_dim = embed_dim * 4\n",
    "class_label_dim = 40  # 40 attributes in CelebA dataset\n",
    "patch_mixer_layers = 1\n",
    "\n",
    "epochs = 1\n",
    "mask_ratio = 0.75"
   ]
  },
  {
   "cell_type": "code",
   "execution_count": null,
   "metadata": {},
   "outputs": [],
   "source": [
    "model = MicroDiT(input_dim, patch_size, embed_dim, num_layers, num_heads, mlp_dim, class_label_dim, patch_mixer_layers=patch_mixer_layers)\n",
    "model = LitMicroDiT(model, train_ds=train_ds)\n",
    "model.load_state_dict(torch.load(\"models/diffusion/epoch=4-step=3180.ckpt\")[\"state_dict\"])"
   ]
  },
  {
   "cell_type": "code",
   "execution_count": null,
   "metadata": {},
   "outputs": [],
   "source": [
    "model = model.to(device)"
   ]
  },
  {
   "cell_type": "markdown",
   "metadata": {},
   "source": [
    "noise = torch.randn(9, 4, 27, 22).to(device)\n",
    "\n",
    "image_prompts = train_ds[0:9][\"prompt_string\"]\n",
    "image_prompts = strings_to_tensor(image_prompts).to(device)\n",
    "\n",
    "with torch.inference_mode():\n",
    "    pred = model.sample(noise, image_prompts, sample_steps=10)\n",
    "\n",
    "    pred = vae.decode(pred).sample\n",
    "    # Change range of pred from x to y to -1 to 1\n",
    "    min_val = pred.min()\n",
    "    max_val = pred.max()\n",
    "\n",
    "    pred = (pred - min_val) / (max_val - min_val)\n",
    "    pred = 2 * pred - 1\n",
    "\n",
    "ground_truth = train_ds[0:9][\"image\"]\n",
    "\n",
    "with torch.inference_mode():\n",
    "    pred_cpu = pred.cpu()\n",
    "    pred_np = pred_cpu.permute(0, 2, 3, 1).numpy()\n",
    "    pred_np = (pred_np + 1) / 2\n",
    "    pred_np = (pred_np * 255).astype(np.uint8)  # Convert to uint8\n",
    "\n",
    "    ground_truth_cpu = ground_truth.cpu()\n",
    "    ground_truth_np = ground_truth_cpu.permute(0, 2, 3, 1).numpy()\n",
    "    ground_truth_np = (ground_truth_np + 1) / 2\n",
    "    ground_truth_np = (ground_truth_np * 255).astype(np.uint8)  # Convert to uint8\n",
    "    # Create figure for predictions\n",
    "    fig_pred, axes_pred = plt.subplots(3, 3, figsize=(12, 12))  # 3 rows, 3 columns\n",
    "\n",
    "    # Plot predictions\n",
    "    for i, ax in enumerate(axes_pred.flatten()):\n",
    "        if i < pred_np.shape[0]:\n",
    "            ax.imshow(pred_np[i])\n",
    "            ax.set_title('Prediction')\n",
    "            ax.axis('off')\n",
    "        else:\n",
    "            ax.axis('off')\n",
    "    \n",
    "    plt.tight_layout()\n",
    "    plt.show()\n",
    "\n",
    "    # Create figure for ground truth\n",
    "    fig_gt, axes_gt = plt.subplots(3, 3, figsize=(12, 12))  # 3 rows, 3 columns\n",
    "\n",
    "    # Plot ground truth\n",
    "    for i, ax in enumerate(axes_gt.flatten()):\n",
    "        if i < ground_truth_np.shape[0]:\n",
    "            ax.imshow(ground_truth_np[i])\n",
    "            ax.set_title('Ground Truth')\n",
    "            ax.axis('off')\n",
    "        else:\n",
    "            ax.axis('off')\n",
    "    \n",
    "    plt.tight_layout()\n",
    "    plt.show()"
   ]
  }
 ],
 "metadata": {
  "kernelspec": {
   "display_name": "Python 3",
   "language": "python",
   "name": "python3"
  },
  "language_info": {
   "codemirror_mode": {
    "name": "ipython",
    "version": 3
   },
   "file_extension": ".py",
   "mimetype": "text/x-python",
   "name": "python",
   "nbconvert_exporter": "python",
   "pygments_lexer": "ipython3",
   "version": "3.12.4"
  }
 },
 "nbformat": 4,
 "nbformat_minor": 2
}
