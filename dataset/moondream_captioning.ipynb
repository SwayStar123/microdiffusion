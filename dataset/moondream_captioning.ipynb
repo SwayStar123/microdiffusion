{
 "cells": [
  {
   "cell_type": "code",
   "execution_count": 17,
   "metadata": {},
   "outputs": [],
   "source": [
    "from datasets import load_dataset\n",
    "import time\n",
    "import fal_client\n",
    "from dotenv import load_dotenv\n",
    "import requests\n",
    "import concurrent"
   ]
  },
  {
   "cell_type": "code",
   "execution_count": 18,
   "metadata": {},
   "outputs": [],
   "source": [
    "async def subscribe(urls):\n",
    "    def on_queue_update(update):\n",
    "        if isinstance(update, fal_client.InProgress):\n",
    "            if update.logs:\n",
    "                for log in update.logs:\n",
    "                    print(log[\"message\"])\n",
    "\n",
    "    result = await fal_client.subscribe_async(\n",
    "        \"fal-ai/moondream/batched\",\n",
    "        arguments={\n",
    "            \"inputs\": [\n",
    "            {\n",
    "                \"prompt\": \"Caption this image.\",\n",
    "                \"image_url\": url\n",
    "            } for url in urls\n",
    "            ]\n",
    "            \n",
    "        },\n",
    "        on_queue_update=on_queue_update,\n",
    "    )\n",
    "\n",
    "    print(result)\n",
    "\n",
    "def is_valid_url(url):\n",
    "    try:\n",
    "        response = requests.head(url, allow_redirects=True)\n",
    "        # Check if the status code indicates success\n",
    "        if response.status_code == 200:\n",
    "            # Check if the content-type indicates an image\n",
    "            content_type = response.headers.get('content-type')\n",
    "            if 'image' in content_type:\n",
    "                return True\n",
    "        return False\n",
    "    except requests.RequestException:\n",
    "        return False\n",
    "\n",
    "def clean_urls(batch, max_workers=16):\n",
    "    \"\"\"\n",
    "    Since there may be link rot, this function confirms the links are still valid.\n",
    "    If the link is valid, the URL is returned in the dictionary, otherwise it is returned in the list.\n",
    "\n",
    "    :param batch: A list of dictionaries containing the key and URL of the image.\n",
    "    :param max_workers: The maximum number of threads to use for parallel checking.\n",
    "    :return: A dictionary containing the valid URLs and a list containing the invalid URLs.\n",
    "    \"\"\"\n",
    "    valid_urls = {}\n",
    "    invalid_urls = []\n",
    "\n",
    "    keys = batch[\"key\"]\n",
    "    urls = batch[\"downloadurl\"]\n",
    "\n",
    "    def check_url(key, url):\n",
    "        \"\"\"Helper function to check a URL and return key, validity status.\"\"\"\n",
    "        if is_valid_url(url):\n",
    "            return key, url, True\n",
    "        return key, url, False\n",
    "\n",
    "    # Use ThreadPoolExecutor to parallelize URL checks, specify the number of workers with max_workers\n",
    "    with concurrent.futures.ThreadPoolExecutor(max_workers=max_workers) as executor:\n",
    "        futures = [executor.submit(check_url, key, url) for key, url in zip(keys, urls)]\n",
    "        for future in concurrent.futures.as_completed(futures):\n",
    "            key, url, is_valid = future.result()\n",
    "            if is_valid:\n",
    "                valid_urls[key] = url\n",
    "            else:\n",
    "                invalid_urls.append(key)\n",
    "\n",
    "    return valid_urls, invalid_urls"
   ]
  },
  {
   "cell_type": "code",
   "execution_count": 3,
   "metadata": {},
   "outputs": [
    {
     "data": {
      "text/plain": [
       "True"
      ]
     },
     "execution_count": 3,
     "metadata": {},
     "output_type": "execute_result"
    }
   ],
   "source": [
    "load_dotenv()"
   ]
  },
  {
   "cell_type": "code",
   "execution_count": 4,
   "metadata": {},
   "outputs": [
    {
     "data": {
      "application/vnd.jupyter.widget-view+json": {
       "model_id": "e69bbe394cdb43d0a8cbbed1664d2e3d",
       "version_major": 2,
       "version_minor": 0
      },
      "text/plain": [
       "Resolving data files:   0%|          | 0/5573 [00:00<?, ?it/s]"
      ]
     },
     "metadata": {},
     "output_type": "display_data"
    }
   ],
   "source": [
    "dataset = load_dataset(\"common-canvas/commoncatalog-cc-by\", split=\"train\", streaming=True, columns=[\"key\", \"downloadurl\"])\n"
   ]
  },
  {
   "cell_type": "code",
   "execution_count": 15,
   "metadata": {},
   "outputs": [],
   "source": [
    "batched_dataset = dataset.batch(batch_size=64)"
   ]
  },
  {
   "cell_type": "code",
   "execution_count": 19,
   "metadata": {},
   "outputs": [
    {
     "name": "stdout",
     "output_type": "stream",
     "text": [
      "Took 1.638000726699829 seconds to clean 2 URLs.\n",
      "Processing 62 valid URLs...\n",
      "{'outputs': ['A white circular plaque with a black and white emblem of a crown and a building with a dome, inscribed \"Jubilee Walkway\" in bold letters, is affixed to a gray concrete surface.', 'Two men in gray uniforms with black hats and white gloves walk side by side, carrying rifles and a white bag, with a crowd of people in the background.', 'A sand mandala, featuring a central star and four smaller circles, is arranged in a circular pattern against a sandy background.', 'A child in a black jacket and hat sits on a rocky beach, gazing out at the ocean under a cloudy sky.', 'Three individuals ride Segways on a concrete pier, with a large ship and city skyline in the background.', 'A bustling market scene features a variety of colorful fruits and vegetables on display under striped awnings, with people browsing and shopping amidst the lively atmosphere.', 'A black dog statue stands on a weather vane atop a white building, surrounded by bare tree branches.', 'A young child in a red baseball cap and black sunglasses sits on the shoulders of an adult, both gazing upwards at the blue sky with fluffy white clouds.', 'A man in a white t-shirt and red baseball cap points to a large inflatable globe with a green and blue map of the world, surrounded by a group of people in a grassy field.', 'A person in a white dress and hat walks along a rocky riverbank, surrounded by trees and rocks, with a clear blue sky overhead.', 'A winding concrete path meanders through a lush park, flanked by trees with vibrant pink flowers and a clear blue sky.', 'A stack of brown and green grass clippings, neatly arranged in a grid-like pattern, creates a textured and natural-looking surface.', 'A young girl in a yellow shirt and pink shorts feeds a baby in a blue shirt and white shorts on a beige couch, with a red and white striped pillow nearby.', 'A black and white newspaper article titled \" Melody-Maker\" features a side lines illustration of a woman\\'s face and text discussing the magazine\\'s content.', 'A grand chandelier with a gold frame and intricate design hangs from the ceiling, casting a warm glow in the room.', 'A weathered blue and white sign with a green and white logo stands against a gray metal frame, with a green beer can partially visible in the bottom right corner.', 'A man and a woman stand in front of a white building with black doors and windows, displaying the sign \"ССССССССССССССССССССС', 'A white sign with red and black text in Spanish, \"I se Busca!\", is displayed in a park setting, accompanied by a black silhouette of a person.', 'A brick building with a wooden balcony and a small pool in the courtyard, surrounded by lush green grass and a small garden.', 'A brick building with a curved roof and white trim stands on a street corner, with a tall steeple and a flagpole in the background. A car is parked on the street, and a traffic light stands on the corner.', 'A black and white image of a statue of a man holding a globe, set against a backdrop of a tall building and a tree.', 'A silver Volkswagen logo, featuring a black triangle with a silver \"V\" in the center, is reflected in a mirror.', 'A woman in white stands on a stone platform in a Roman amphitheater, surrounded by stone walls and a grassy area, with a clear blue sky overhead.', 'Two individuals, a man and a woman, sit in a room with a window, engaged in conversation, with the man holding a book and the woman holding a tablet.', 'A small bird with a white chest and brown wings perches on a thin branch, facing the camera with its beak slightly open.', 'A large T-Rex skeleton, with its mouth open and teeth visible, stands on a wooden platform in a museum setting, accompanied by a sign that reads \"This is no nature\".', 'A cyclist in a pink and white jersey, black shorts, and white helmet pedals a black and white Giant bike with a large wheel, surrounded by spectators and a yellow banner with the words \"Invest in you\" and \"Best in your life\".', 'A man in a black jacket and gray headphones sits in a helicopter, gazing out the window as the helicopter flies through the sky.', 'Two individuals in vibrant green and red feathered costumes, adorned with white tassels, stand amidst a colorful parade float, their faces lit up with joy.', 'A metal plaque with a black background and white text, reading \"Camera Fans\" and \"Instructions\", is attached to a metal surface.', 'A black and white photograph captures a serene alleyway, with a brick building on the left and a white building on the right, both bathed in the soft glow of the sun.', 'A man in a brown t-shirt plays a red electric guitar with a black strap, displaying a focused expression and a serious demeanor.', 'A vibrant sunset paints the sky with hues of orange and pink, casting a warm glow over a cityscape with buildings and a crane.', 'A close-up view of a vibrant red flower reveals a central purple stamen surrounded by a network of purple and white stamens and pistils.', 'A grand, two-story building with a symmetrical facade, featuring a series of arched windows and intricate stone carvings, stands majestically against a clear sky.', 'Six round, shiny droplets of red liquid rest on a dark red surface, creating a captivating pattern.', 'A vibrant poinsettia plant, with red and pink flowers, is displayed in a gold-framed picture against a gray background.', 'A white ball with a blue eye in the center, adorned with red lines, sits on a black base, contrasting with the blue background.', 'A single pencil, with a small black mark on its tip, rests on an orange background, accompanied by the word \"arquera\" in the bottom right corner.', 'A man with long blonde hair plays a blue electric guitar on stage, wearing a black tank top with a red graphic and a blue guitar strap.', 'An old, rusted Ford tractor with a faded yellow exterior and a large engine is parked on a concrete floor, with a black grate in front of it.', 'A wedding reception takes place in a spacious room with a high ceiling, where guests gather around tables draped in white tablecloths, adorned with flowers and candles.', 'A weathered wooden wagon rests on a grassy patch, surrounded by a lush forest of tall trees and a blue tractor in the foreground.', 'A modern, multi-story building with a glass facade and a gray concrete structure stands on a city street corner, surrounded by trees and power lines.', 'A black and orange butterfly with yellow spots rests on a purple flower, surrounded by green foliage.', 'A man in a yellow tank top rides a red Vespa scooter, with a young boy in a blue shirt and black boots seated behind him, both smiling and enjoying the ride.', 'Two players in black and white jerseys celebrate a victory on a blue indoor court, surrounded by spectators and advertisements.', 'A vibrant orange flower with a yellow center is surrounded by a green leaf and a white flower, creating a harmonious balance of colors and textures.', 'A pink rabbit with a gun in its mouth is depicted in a circular sticker, surrounded by a pink and blue background with the text \"S.B.\" and \"S.B.\".', 'A large, vibrant pink balloon dog sculpture stands on a white pedestal, its body composed of multiple balloons and its head a single balloon, against a backdrop of a brick building.', 'A white plate holds a vibrant salad with red tomatoes, green olives, and white crumbled feta cheese, accompanied by grilled chicken and asparagus spears.', \"A weathered white skull of a buffalo rests on a bed of sand, with a large tree trunk and a small bird's nest nearby, in a desert-like environment.\", 'A foggy riverbank features a group of ducks swimming in the still water, with a road and trees visible in the distance.', 'A newborn baby lies on a blue blanket, wearing a white onesie with a playful orange and green pattern, a blue knit hat, and a pacifier.', 'A family of four, including two adults and two children, stands in the shallow water at a beach, with the ocean and sky as their backdrop.', 'A black and chrome motorcycle with a large headlight and two side mirrors is parked on a gravel road, surrounded by lush greenery.', 'A man in a gray suit jacket and colorful tie smiles warmly, seated in a room with a wooden wall and a white curtain.', 'A light beige rock with a rough texture and two small holes is displayed on a white plate with a red chili pepper design.', 'A branch with green leaves and red berries is shown, with the berries in full bloom and the leaves slightly blurred.', 'A cluttered kitchen counter features a laptop, coffee mug, and a stack of books, with a shelf above holding various items.', 'A family of three, dressed in casual attire, sits in a cozy log cabin, sharing a moment of joy and laughter.', 'A cluster of succulent plants with vibrant green leaves and red stems is nestled in a rocky soil, surrounded by small rocks and pebbles.'], 'partial': False, 'timings': {'preprocessing': 0.6436480674892664, 'inference': 8.783792596310377}, 'filenames': None}\n",
      "Took 11.253533124923706\n"
     ]
    }
   ],
   "source": [
    "captions = {}\n",
    "link_rot_urls = []\n",
    "\n",
    "for batch in batched_dataset:\n",
    "    t = time.time()\n",
    "\n",
    "    valid_urls, invalid_urls = clean_urls(batch)\n",
    "    link_rot_urls.extend(invalid_urls)\n",
    "\n",
    "    print(f\"Took {time.time() - t} seconds to clean {len(invalid_urls)} URLs.\")\n",
    "    t = time.time()\n",
    "\n",
    "    print(f\"Processing {len(valid_urls)} valid URLs...\")\n",
    "\n",
    "    res = await subscribe(valid_urls.values())\n",
    "\n",
    "    print(\"Took\", time.time() - t)\n",
    "    break"
   ]
  },
  {
   "cell_type": "code",
   "execution_count": 21,
   "metadata": {},
   "outputs": [
    {
     "name": "stdout",
     "output_type": "stream",
     "text": [
      "987\n"
     ]
    }
   ],
   "source": [
    "import json\n",
    "with open(\"../captions.json\", \"r\") as f:\n",
    "    captions = json.load(f)\n",
    "    print(len(captions))"
   ]
  },
  {
   "cell_type": "code",
   "execution_count": null,
   "metadata": {},
   "outputs": [],
   "source": []
  }
 ],
 "metadata": {
  "kernelspec": {
   "display_name": "Python 3",
   "language": "python",
   "name": "python3"
  },
  "language_info": {
   "codemirror_mode": {
    "name": "ipython",
    "version": 3
   },
   "file_extension": ".py",
   "mimetype": "text/x-python",
   "name": "python",
   "nbconvert_exporter": "python",
   "pygments_lexer": "ipython3",
   "version": "3.12.4"
  }
 },
 "nbformat": 4,
 "nbformat_minor": 2
}
